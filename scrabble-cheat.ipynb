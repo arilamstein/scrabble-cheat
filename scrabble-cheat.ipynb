{
 "cells": [
  {
   "cell_type": "code",
   "execution_count": 2,
   "metadata": {},
   "outputs": [],
   "source": [
    "# the longest word in the dictionary is dichlorodiphenyltrichloroethane,\n",
    "# which has 31 letters. But the max length of the board in WWF is 15\n",
    "# also, WWF does not allow 1-letter words\n",
    "def load_words(max_length=15):\n",
    "    with open('words_alpha.txt') as word_file:\n",
    "        return [one_word\n",
    "           for one_word in set(word_file.read().split())\n",
    "           if (len(one_word) > 1) and (len(one_word) <= max_length)] \n",
    "\n",
    "def can_spell_word(word, tiles):    \n",
    "    for one_letter in word:       \n",
    "        # if this letter is available in our tiles, remove it and continue\n",
    "        if one_letter in tiles:\n",
    "            tiles = tiles.replace(one_letter, '', 1)\n",
    "        else:\n",
    "            return False\n",
    "        \n",
    "    return True\n",
    "\n",
    "def get_word_score(word):\n",
    "    letter_scores = {'a': 1,  'b': 4,  'c': 4, 'd': 2,\n",
    "                     'e': 1,  'f': 4,  'g': 3, 'h': 3,\n",
    "                     'i': 1,  'j': 10, 'k': 5, 'l': 2,\n",
    "                     'm': 4,  'n': 2,  'o': 1, 'p': 4,\n",
    "                     'q': 10, 'r': 1,  's': 1, 't': 1,\n",
    "                     'u': 2,  'v': 5,  'w': 4, 'x': 8,\n",
    "                     'y': 3,  'z': 10}\n",
    "    \n",
    "    return sum([letter_scores[letter]\n",
    "            for letter in word])\n",
    "\n",
    "def word_has_letters(word, required_letters):\n",
    "    if not required_letters:\n",
    "        return True\n",
    "    else:\n",
    "        return all(one_letter in word \n",
    "                   for one_letter in required_letters)\n",
    "\n",
    "# here we assume that \"tiles\" are the tiles that the user has\n",
    "# \"starts_with\" and \"ends_with\" are considered to be tiles that are already on the board\n",
    "def get_all_words(tiles, required_letters=\"\", max_length=15, starts_with=\"\", ends_with=\"\"):\n",
    "    tiles += starts_with + ends_with\n",
    "    words = [(one_word, get_word_score(one_word))\n",
    "            for one_word in load_words(max_length=max_length)\n",
    "            if one_word.startswith(starts_with) and \n",
    "                one_word.endswith(ends_with) and\n",
    "                word_has_letters(one_word, required_letters) and\n",
    "                can_spell_word(one_word, tiles)]\n",
    "    \n",
    "    return sorted(words, key=lambda x: x[1], reverse=True)   \n",
    "\n",
    "def starts_with_ends_with(starts_with=\"\", ends_with=\"\"):\n",
    "    words = [(one_word, get_word_score(one_word))\n",
    "        for one_word in load_words()\n",
    "        if one_word.startswith(starts_with) and one_word.endswith(ends_with)]\n",
    "    \n",
    "    return sorted(words, key=lambda x: x[1], reverse=True)\n"
   ]
  },
  {
   "cell_type": "code",
   "execution_count": 3,
   "metadata": {},
   "outputs": [
    {
     "data": {
      "text/plain": [
       "[('willi', 10),\n",
       " ('iiwi', 7),\n",
       " ('wi', 5),\n",
       " ('iii', 3),\n",
       " ('li', 3),\n",
       " ('ii', 2),\n",
       " ('si', 2)]"
      ]
     },
     "execution_count": 3,
     "metadata": {},
     "output_type": "execute_result"
    }
   ],
   "source": [
    "get_all_words('ilzsiwl', max_length=7, ends_with='i')"
   ]
  }
 ],
 "metadata": {
  "kernelspec": {
   "display_name": "Python 3",
   "language": "python",
   "name": "python3"
  },
  "language_info": {
   "codemirror_mode": {
    "name": "ipython",
    "version": 3
   },
   "file_extension": ".py",
   "mimetype": "text/x-python",
   "name": "python",
   "nbconvert_exporter": "python",
   "pygments_lexer": "ipython3",
   "version": "3.7.3"
  }
 },
 "nbformat": 4,
 "nbformat_minor": 4
}
